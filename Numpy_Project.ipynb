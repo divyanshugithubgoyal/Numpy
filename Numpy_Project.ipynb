{
  "nbformat": 4,
  "nbformat_minor": 0,
  "metadata": {
    "colab": {
      "provenance": []
    },
    "kernelspec": {
      "name": "python3",
      "display_name": "Python 3"
    },
    "language_info": {
      "name": "python"
    }
  },
  "cells": [
    {
      "cell_type": "markdown",
      "source": [
        "# MINI project\n",
        "\n",
        "### 🎯 **Objective:**\n",
        "\n",
        "You are working with student marks data and need to prepare and organize it using NumPy arrays.Your goal is to create, modify, and analyze the data efficiently without using any external libraries.\n",
        "\n",
        "### 🧠 **Project Description:**\n",
        "\n",
        "A school has recorded the marks of several students in different subjects.You are required to design a NumPy-based solution to store, manage, and process this data.Your tasks involve creating arrays, changing their shapes, combining data, performing modifications, and analyzing patterns — all using NumPy.\n",
        "\n",
        "### 📋 **Project Tasks:**\n",
        "\n",
        "1.  **Data Creation:**Create suitable arrays to represent students, subjects, and their marks.\n",
        "    \n",
        "2.  **Data Exploration:**Explore the properties of these arrays — such as their dimensions, size, and structure.\n",
        "    \n",
        "3.  **Data Transformation:**Perform necessary reshaping and reorganization of the data to suit various operations.\n",
        "    \n",
        "4.  **Data Combination:**Merge or split arrays to simulate adding new students, new subjects, or reorganizing the dataset.\n",
        "    \n",
        "5.  **Data Modification:**Apply operations to update marks, remove data, or identify unique information.\n",
        "    \n",
        "6.  **Data Type Handling:**Demonstrate how the same data can exist in different data types and how changes affect results.\n",
        "    \n",
        "7.  **Copy and View Behavior:**Show the difference between creating a full copy of an array and creating a view of the same data."
      ],
      "metadata": {
        "id": "SbgXGjBnSs1w"
      }
    },
    {
      "cell_type": "code",
      "source": [
        "# Q1\n",
        "\n",
        "stud_data=np.array([\"dinu\",\"eng\",\"99\",\"tanu\",\"hindi\",\"90\",\"sanu\",\"phd\",\"85\",\"manu\",\"ias\",\"78\"])\n",
        "\n",
        "print(stud_data)"
      ],
      "metadata": {
        "colab": {
          "base_uri": "https://localhost:8080/"
        },
        "id": "ykkHiMxNSw1S",
        "outputId": "b1dd2527-83fd-4ec5-c1a8-25d00526d8fa"
      },
      "execution_count": null,
      "outputs": [
        {
          "output_type": "stream",
          "name": "stdout",
          "text": [
            "['dinu' 'eng' '99' 'tanu' 'hindi' '90' 'sanu' 'phd' '85' 'manu' 'ias' '78']\n"
          ]
        }
      ]
    },
    {
      "cell_type": "code",
      "source": [
        "# Q2\n",
        "dim=stud_data.ndim\n",
        "print(dim)\n",
        "\n",
        "size=stud_data.size\n",
        "print(size)\n",
        "\n",
        "shape=stud_data.shape\n",
        "print(shape)"
      ],
      "metadata": {
        "colab": {
          "base_uri": "https://localhost:8080/"
        },
        "id": "eiAcjo8EWA0K",
        "outputId": "cc87dc79-7022-4f6d-9f36-0f2da7788b8c"
      },
      "execution_count": null,
      "outputs": [
        {
          "output_type": "stream",
          "name": "stdout",
          "text": [
            "1\n",
            "12\n",
            "(12,)\n"
          ]
        }
      ]
    },
    {
      "cell_type": "code",
      "source": [
        "# Q3\n",
        "arr_2d=stud_data.reshape(4,3)\n",
        "arr_2d"
      ],
      "metadata": {
        "colab": {
          "base_uri": "https://localhost:8080/"
        },
        "id": "xzLo6_sfUef6",
        "outputId": "1b5b5d72-d94b-4f7e-ff89-bbff02bfcbf7"
      },
      "execution_count": null,
      "outputs": [
        {
          "output_type": "execute_result",
          "data": {
            "text/plain": [
              "array([['dinu', 'eng', '99'],\n",
              "       ['tanu', 'hindi', '90'],\n",
              "       ['sanu', 'phd', '85'],\n",
              "       ['manu', 'ias', '78']], dtype='<U5')"
            ]
          },
          "metadata": {},
          "execution_count": 8
        }
      ]
    },
    {
      "cell_type": "code",
      "source": [
        "# Q4\n"
      ],
      "metadata": {
        "id": "MwUHTh0OVPj-"
      },
      "execution_count": null,
      "outputs": []
    },
    {
      "cell_type": "code",
      "source": [],
      "metadata": {
        "id": "8OSgXkRxYupO"
      },
      "execution_count": null,
      "outputs": []
    },
    {
      "cell_type": "code",
      "source": [],
      "metadata": {
        "id": "qDOfSAsKYuki"
      },
      "execution_count": null,
      "outputs": []
    },
    {
      "cell_type": "code",
      "source": [],
      "metadata": {
        "id": "rgIQHmUuYuhQ"
      },
      "execution_count": null,
      "outputs": []
    },
    {
      "cell_type": "code",
      "source": [
        "# Q1\n",
        "\n",
        "stud=np.array([87,52,56,41,85,23,65,65,78,95,10,52])\n",
        "\n",
        "print(Q1)"
      ],
      "metadata": {
        "colab": {
          "base_uri": "https://localhost:8080/"
        },
        "id": "akz8xtNDYub3",
        "outputId": "347b7c43-c4aa-41d1-b4d9-643b58d5d4de"
      },
      "execution_count": null,
      "outputs": [
        {
          "output_type": "stream",
          "name": "stdout",
          "text": [
            "[87 52 56 41 85 23 65 65 78 95 10 52]\n"
          ]
        }
      ]
    },
    {
      "cell_type": "code",
      "source": [
        "# Q2\n",
        "dim=stud.ndim\n",
        "print(dim)\n",
        "\n",
        "size=stud.size\n",
        "print(size)\n",
        "\n",
        "shape=stud.shape\n",
        "print(shape)"
      ],
      "metadata": {
        "colab": {
          "base_uri": "https://localhost:8080/"
        },
        "id": "pveOHuoTZq2I",
        "outputId": "0ec9fd0a-9f70-46aa-d96a-89841cb187e7"
      },
      "execution_count": null,
      "outputs": [
        {
          "output_type": "stream",
          "name": "stdout",
          "text": [
            "1\n",
            "12\n",
            "(12,)\n"
          ]
        }
      ]
    },
    {
      "cell_type": "code",
      "source": [
        "# Q3\n",
        "arr_2d=stud.reshape(4,3)\n",
        "print(arr_2d)\n"
      ],
      "metadata": {
        "colab": {
          "base_uri": "https://localhost:8080/"
        },
        "id": "SEXxVdqzZ_mB",
        "outputId": "7e15526e-68b4-402a-b2b7-98761ff91040"
      },
      "execution_count": null,
      "outputs": [
        {
          "output_type": "stream",
          "name": "stdout",
          "text": [
            "[[87 52 56]\n",
            " [41 85 23]\n",
            " [65 65 78]\n",
            " [95 10 52]]\n"
          ]
        }
      ]
    },
    {
      "cell_type": "code",
      "source": [
        "# Q4\n",
        "new=np.array([12,13,14])\n",
        "\n",
        "arr4=np.vstack((arr_2d,new))\n",
        "print(arr4)\n"
      ],
      "metadata": {
        "colab": {
          "base_uri": "https://localhost:8080/"
        },
        "id": "16Hyaeg_aIev",
        "outputId": "dfee5a46-bb48-4377-9c0e-321eab2a4139"
      },
      "execution_count": null,
      "outputs": [
        {
          "output_type": "stream",
          "name": "stdout",
          "text": [
            "[[87 52 56]\n",
            " [41 85 23]\n",
            " [65 65 78]\n",
            " [95 10 52]\n",
            " [12 13 14]]\n"
          ]
        }
      ]
    },
    {
      "cell_type": "code",
      "source": [
        "# Q5  update\n",
        "\n",
        "arr4[1,1]=34\n",
        "print(arr4)\n",
        "\n"
      ],
      "metadata": {
        "colab": {
          "base_uri": "https://localhost:8080/"
        },
        "id": "yEDWAitEbOdd",
        "outputId": "a0c77920-7023-4c81-d5ab-7e6f8ce52d5e"
      },
      "execution_count": null,
      "outputs": [
        {
          "output_type": "stream",
          "name": "stdout",
          "text": [
            "[[87 52 56]\n",
            " [41 34 23]\n",
            " [65 65 78]\n",
            " [95 10 52]\n",
            " [12 13 14]]\n"
          ]
        }
      ]
    },
    {
      "cell_type": "code",
      "source": [
        "# Q6\n",
        "\n",
        "arr_6=arr4"
      ],
      "metadata": {
        "id": "OQZYlwU6bat_"
      },
      "execution_count": null,
      "outputs": []
    }
  ]
}